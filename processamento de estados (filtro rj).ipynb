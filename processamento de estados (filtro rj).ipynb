{
 "cells": [
  {
   "cell_type": "code",
   "execution_count": 1,
   "id": "1f294e4e",
   "metadata": {},
   "outputs": [],
   "source": [
    "import pandas as pd\n",
    "from os import walk\n",
    "\n",
    "import simple_tools as sp"
   ]
  },
  {
   "cell_type": "code",
   "execution_count": 2,
   "id": "abc68d61",
   "metadata": {},
   "outputs": [],
   "source": [
    "# find files inside the folder\n",
    "filenames = next(walk('data/raw/abstencoes/'))\n",
    "folders = filenames[1]\n",
    "\n",
    "dfs = []\n",
    "for f in folders:\n",
    "    # open file and store as dataframe\n",
    "    df = pd.read_csv(\"data/raw/abstencoes/{}/perfil_comparecimento_abstencao_{}.csv\".format(f,f), encoding='Latin-1', sep=\";\")\n",
    "    dfs.append(df)"
   ]
  },
  {
   "cell_type": "code",
   "execution_count": 3,
   "id": "ae7c48de",
   "metadata": {},
   "outputs": [
    {
     "data": {
      "text/plain": [
       "4"
      ]
     },
     "execution_count": 3,
     "metadata": {},
     "output_type": "execute_result"
    }
   ],
   "source": [
    "len(dfs)"
   ]
  },
  {
   "cell_type": "code",
   "execution_count": null,
   "id": "8946a533",
   "metadata": {},
   "outputs": [],
   "source": []
  },
  {
   "cell_type": "markdown",
   "id": "f45ff72f",
   "metadata": {},
   "source": [
    "## Separando todos os dados do RJ"
   ]
  },
  {
   "cell_type": "code",
   "execution_count": 4,
   "id": "0efe5829",
   "metadata": {},
   "outputs": [],
   "source": [
    "dfs_rj = []\n",
    "for c in range(len(dfs)):\n",
    "    df_temp = dfs[c][dfs[c][\"SG_UF\"] == \"RJ\"]\n",
    "    dfs_rj.append(df_temp)"
   ]
  },
  {
   "cell_type": "code",
   "execution_count": 5,
   "id": "d83a0ff7",
   "metadata": {
    "scrolled": false
   },
   "outputs": [
    {
     "name": "stdout",
     "output_type": "stream",
     "text": [
      "DATAFRAME SHAPE: (522402, 23)\n",
      "----------------------------------------------------\n",
      "****************************************************\n",
      "----------------------------------------------------\n",
      "FIRST DATA\n",
      "      DT_GERACAO HH_GERACAO  ANO_ELEICAO  NR_TURNO SG_UF  CD_MUNICIPIO  \\\n",
      "3958  10/05/2019   17:18:30         2014         1    RJ         58424   \n",
      "3959  10/05/2019   17:18:30         2014         1    RJ         58424   \n",
      "3960  10/05/2019   17:18:30         2014         1    RJ         58424   \n",
      "3961  10/05/2019   17:18:30         2014         1    RJ         58424   \n",
      "3962  10/05/2019   17:18:30         2014         1    RJ         58424   \n",
      "\n",
      "     NM_MUNICIPIO  NR_ZONA  CD_GENERO      DS_GENERO  ...  DS_FAIXA_ETARIA  \\\n",
      "3958   SEROPÉDICA      225          0  NÃO INFORMADO  ...     75 a 79 anos   \n",
      "3959   SEROPÉDICA      225          0  NÃO INFORMADO  ...     65 a 69 anos   \n",
      "3960   SEROPÉDICA      225          0  NÃO INFORMADO  ...     80 a 84 anos   \n",
      "3961   SEROPÉDICA      225          0  NÃO INFORMADO  ...     70 a 74 anos   \n",
      "3962   SEROPÉDICA      225          2      MASCULINO  ...     50 a 54 anos   \n",
      "\n",
      "     CD_GRAU_ESCOLARIDADE   DS_GRAU_ESCOLARIDADE QT_APTOS  QT_COMPARECIMENTO  \\\n",
      "3958                    2           LÊ E ESCREVE        1                  1   \n",
      "3959                    7    SUPERIOR INCOMPLETO        1                  1   \n",
      "3960                    1             ANALFABETO        1                  0   \n",
      "3961                    6  ENSINO MÉDIO COMPLETO        1                  1   \n",
      "3962                    6  ENSINO MÉDIO COMPLETO        1                  1   \n",
      "\n",
      "     QT_ABSTENCAO  QT_COMPARECIMENTO_DEFICIENCIA  QT_ABSTENCAO_DEFICIENCIA  \\\n",
      "3958            0                              0                         0   \n",
      "3959            0                              0                         0   \n",
      "3960            1                              0                         0   \n",
      "3961            0                              0                         0   \n",
      "3962            0                              0                         0   \n",
      "\n",
      "      QT_COMPARECIMENTO_TTE  QT_ABSTENCAO_TTE  \n",
      "3958                      0                 0  \n",
      "3959                      0                 0  \n",
      "3960                      0                 0  \n",
      "3961                      0                 0  \n",
      "3962                      0                 0  \n",
      "\n",
      "[5 rows x 23 columns]\n",
      "----------------------------------------------------\n",
      "****************************************************\n",
      "----------------------------------------------------\n",
      "LAST DATA\n",
      "         DT_GERACAO HH_GERACAO  ANO_ELEICAO  NR_TURNO SG_UF  CD_MUNICIPIO  \\\n",
      "8103709  10/05/2019   17:18:30         2014         2    RJ         60011   \n",
      "8103710  10/05/2019   17:18:30         2014         2    RJ         60011   \n",
      "8103711  10/05/2019   17:18:30         2014         2    RJ         60011   \n",
      "8103712  10/05/2019   17:18:30         2014         2    RJ         60011   \n",
      "8103713  10/05/2019   17:18:30         2014         2    RJ         60011   \n",
      "\n",
      "           NM_MUNICIPIO  NR_ZONA  CD_GENERO DS_GENERO  ...  DS_FAIXA_ETARIA  \\\n",
      "8103709  RIO DE JANEIRO      240          4  FEMININO  ...     75 a 79 anos   \n",
      "8103710  RIO DE JANEIRO      240          4  FEMININO  ...     75 a 79 anos   \n",
      "8103711  RIO DE JANEIRO      240          4  FEMININO  ...     80 a 84 anos   \n",
      "8103712  RIO DE JANEIRO      240          4  FEMININO  ...     80 a 84 anos   \n",
      "8103713  RIO DE JANEIRO      240          4  FEMININO  ...     80 a 84 anos   \n",
      "\n",
      "        CD_GRAU_ESCOLARIDADE           DS_GRAU_ESCOLARIDADE QT_APTOS  \\\n",
      "8103709                    5        ENSINO MÉDIO INCOMPLETO        4   \n",
      "8103710                    8              SUPERIOR COMPLETO        8   \n",
      "8103711                    3  ENSINO FUNDAMENTAL INCOMPLETO       68   \n",
      "8103712                    7            SUPERIOR INCOMPLETO        2   \n",
      "8103713                    8              SUPERIOR COMPLETO        7   \n",
      "\n",
      "         QT_COMPARECIMENTO QT_ABSTENCAO  QT_COMPARECIMENTO_DEFICIENCIA  \\\n",
      "8103709                  1            3                              0   \n",
      "8103710                  6            2                              0   \n",
      "8103711                  4           64                              0   \n",
      "8103712                  0            2                              0   \n",
      "8103713                  2            5                              0   \n",
      "\n",
      "         QT_ABSTENCAO_DEFICIENCIA  QT_COMPARECIMENTO_TTE  QT_ABSTENCAO_TTE  \n",
      "8103709                         0                      0                 0  \n",
      "8103710                         0                      0                 0  \n",
      "8103711                         0                      0                 0  \n",
      "8103712                         0                      0                 0  \n",
      "8103713                         0                      0                 0  \n",
      "\n",
      "[5 rows x 23 columns]\n",
      "----------------------------------------------------\n",
      "****************************************************\n",
      "----------------------------------------------------\n",
      "DATAFRAME DESCRIPTION\n",
      "       ANO_ELEICAO  NR_TURNO   CD_MUNICIPIO        NR_ZONA      CD_GENERO  \\\n",
      "count     522402.0  522402.0  522402.000000  522402.000000  522402.000000   \n",
      "mean        2014.0       1.5   59150.134138     125.573068       2.924154   \n",
      "std            0.0       0.5     748.059098      72.728169       1.166941   \n",
      "min         2014.0       1.0   58009.000000       1.000000       0.000000   \n",
      "25%         2014.0       1.0   58467.000000      62.000000       2.000000   \n",
      "50%         2014.0       1.5   58971.000000     126.000000       4.000000   \n",
      "75%         2014.0       2.0   60011.000000     187.000000       4.000000   \n",
      "max         2014.0       2.0   60011.000000     256.000000       4.000000   \n",
      "\n",
      "       CD_ESTADO_CIVIL  CD_FAIXA_ETARIA  CD_GRAU_ESCOLARIDADE       QT_APTOS  \\\n",
      "count    522402.000000    522402.000000         522402.000000  522402.000000   \n",
      "mean          3.824583      5673.350324              4.268479      46.482000   \n",
      "std           2.912420      2099.307823              2.259957     138.218797   \n",
      "min           0.000000        -3.000000              0.000000       1.000000   \n",
      "25%           1.000000      4044.000000              2.000000       2.000000   \n",
      "50%           3.000000      5559.000000              4.000000       6.000000   \n",
      "75%           7.000000      7074.000000              6.000000      28.000000   \n",
      "max           9.000000      9999.000000              8.000000    3261.000000   \n",
      "\n",
      "       QT_COMPARECIMENTO   QT_ABSTENCAO  QT_COMPARECIMENTO_DEFICIENCIA  \\\n",
      "count      522402.000000  522402.000000                  522402.000000   \n",
      "mean           36.612258       9.869742                       0.104714   \n",
      "std           115.744608      26.247630                       0.661985   \n",
      "min             0.000000       0.000000                       0.000000   \n",
      "25%             1.000000       0.000000                       0.000000   \n",
      "50%             3.000000       2.000000                       0.000000   \n",
      "75%            18.000000       7.000000                       0.000000   \n",
      "max          2746.000000     771.000000                      57.000000   \n",
      "\n",
      "       QT_ABSTENCAO_DEFICIENCIA  QT_COMPARECIMENTO_TTE  QT_ABSTENCAO_TTE  \n",
      "count             522402.000000          522402.000000     522402.000000  \n",
      "mean                   0.051368               0.021518          0.003149  \n",
      "std                    0.285626               0.187915          0.058435  \n",
      "min                    0.000000               0.000000          0.000000  \n",
      "25%                    0.000000               0.000000          0.000000  \n",
      "50%                    0.000000               0.000000          0.000000  \n",
      "75%                    0.000000               0.000000          0.000000  \n",
      "max                   14.000000              20.000000          5.000000  \n",
      "----------------------------------------------------\n",
      "****************************************************\n",
      "----------------------------------------------------\n",
      "DATAFRAME INFO\n",
      "<class 'pandas.core.frame.DataFrame'>\n",
      "Int64Index: 522402 entries, 3958 to 8103713\n",
      "Data columns (total 23 columns):\n",
      " #   Column                         Non-Null Count   Dtype \n",
      "---  ------                         --------------   ----- \n",
      " 0   DT_GERACAO                     522402 non-null  object\n",
      " 1   HH_GERACAO                     522402 non-null  object\n",
      " 2   ANO_ELEICAO                    522402 non-null  int64 \n",
      " 3   NR_TURNO                       522402 non-null  int64 \n",
      " 4   SG_UF                          522402 non-null  object\n",
      " 5   CD_MUNICIPIO                   522402 non-null  int64 \n",
      " 6   NM_MUNICIPIO                   522402 non-null  object\n",
      " 7   NR_ZONA                        522402 non-null  int64 \n",
      " 8   CD_GENERO                      522402 non-null  int64 \n",
      " 9   DS_GENERO                      522402 non-null  object\n",
      " 10  CD_ESTADO_CIVIL                522402 non-null  int64 \n",
      " 11  DS_ESTADO_CIVIL                522402 non-null  object\n",
      " 12  CD_FAIXA_ETARIA                522402 non-null  int64 \n",
      " 13  DS_FAIXA_ETARIA                522402 non-null  object\n",
      " 14  CD_GRAU_ESCOLARIDADE           522402 non-null  int64 \n",
      " 15  DS_GRAU_ESCOLARIDADE           522402 non-null  object\n",
      " 16  QT_APTOS                       522402 non-null  int64 \n",
      " 17  QT_COMPARECIMENTO              522402 non-null  int64 \n",
      " 18  QT_ABSTENCAO                   522402 non-null  int64 \n",
      " 19  QT_COMPARECIMENTO_DEFICIENCIA  522402 non-null  int64 \n",
      " 20  QT_ABSTENCAO_DEFICIENCIA       522402 non-null  int64 \n",
      " 21  QT_COMPARECIMENTO_TTE          522402 non-null  int64 \n",
      " 22  QT_ABSTENCAO_TTE               522402 non-null  int64 \n",
      "dtypes: int64(15), object(8)\n",
      "memory usage: 95.7+ MB\n",
      "None\n"
     ]
    }
   ],
   "source": [
    "sp.print_simple_analysis(dfs_rj[0])"
   ]
  },
  {
   "cell_type": "code",
   "execution_count": null,
   "id": "66a0348c",
   "metadata": {},
   "outputs": [],
   "source": []
  },
  {
   "cell_type": "code",
   "execution_count": 6,
   "id": "8638094b",
   "metadata": {},
   "outputs": [],
   "source": [
    "from functools import reduce\n",
    "\n",
    "def unite_dataframes(dfs):\n",
    "\n",
    "    df = reduce(lambda  left,right: pd.merge(left,right,how='outer'), dfs)\n",
    "    \n",
    "    return df"
   ]
  },
  {
   "cell_type": "code",
   "execution_count": 7,
   "id": "d5eefa71",
   "metadata": {},
   "outputs": [],
   "source": [
    "df = unite_dataframes(dfs_rj)"
   ]
  },
  {
   "cell_type": "code",
   "execution_count": 9,
   "id": "81ef669d",
   "metadata": {},
   "outputs": [],
   "source": [
    "df.to_csv(\"data/processed/abstencoes_rj.csv\", encoding=\"Latin-1\", index=False)"
   ]
  },
  {
   "cell_type": "code",
   "execution_count": null,
   "id": "880461f0",
   "metadata": {},
   "outputs": [],
   "source": []
  }
 ],
 "metadata": {
  "kernelspec": {
   "display_name": "Python 3 (ipykernel)",
   "language": "python",
   "name": "python3"
  },
  "language_info": {
   "codemirror_mode": {
    "name": "ipython",
    "version": 3
   },
   "file_extension": ".py",
   "mimetype": "text/x-python",
   "name": "python",
   "nbconvert_exporter": "python",
   "pygments_lexer": "ipython3",
   "version": "3.9.12"
  }
 },
 "nbformat": 4,
 "nbformat_minor": 5
}
