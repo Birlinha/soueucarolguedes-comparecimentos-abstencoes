{
 "cells": [
  {
   "cell_type": "code",
   "execution_count": 1,
   "id": "1f294e4e",
   "metadata": {},
   "outputs": [],
   "source": [
    "import pandas as pd\n",
    "import simple_tools as sp"
   ]
  },
  {
   "cell_type": "code",
   "execution_count": 4,
   "id": "abc68d61",
   "metadata": {},
   "outputs": [],
   "source": [
    "df = pd.read_csv(\"data/raw/abstencoes/2020/perfil_comparecimento_abstencao_2020.csv\", encoding='Latin-1', sep=\";\")"
   ]
  },
  {
   "cell_type": "code",
   "execution_count": null,
   "id": "75f00242",
   "metadata": {},
   "outputs": [],
   "source": []
  },
  {
   "cell_type": "code",
   "execution_count": 5,
   "id": "8946a533",
   "metadata": {
    "scrolled": false
   },
   "outputs": [
    {
     "name": "stdout",
     "output_type": "stream",
     "text": [
      "DATAFRAME SHAPE: (4770970, 23)\n",
      "----------------------------------------------------\n",
      "****************************************************\n",
      "----------------------------------------------------\n",
      "FIRST DATA\n",
      "   DT_GERACAO HH_GERACAO  ANO_ELEICAO  NR_TURNO SG_UF  CD_MUNICIPIO  \\\n",
      "0  21/12/2020   14:48:46         2020         2    SP         71072   \n",
      "1  21/12/2020   14:48:46         2020         2    SP         71072   \n",
      "2  21/12/2020   14:48:46         2020         2    SP         71072   \n",
      "3  21/12/2020   14:48:46         2020         2    SP         71072   \n",
      "4  21/12/2020   14:48:46         2020         2    SP         71072   \n",
      "\n",
      "  NM_MUNICIPIO  NR_ZONA  CD_GENERO  DS_GENERO  ...  DS_FAIXA_ETARIA  \\\n",
      "0    SÃO PAULO      328          2  MASCULINO  ...     75 a 79 anos   \n",
      "1    SÃO PAULO      328          2  MASCULINO  ...     85 a 89 anos   \n",
      "2    SÃO PAULO      328          2  MASCULINO  ...     95 a 99 anos   \n",
      "3    SÃO PAULO      328          2  MASCULINO  ...     30 a 34 anos   \n",
      "4    SÃO PAULO      328          2  MASCULINO  ...     40 a 44 anos   \n",
      "\n",
      "  CD_GRAU_ESCOLARIDADE           DS_GRAU_ESCOLARIDADE QT_APTOS  \\\n",
      "0                    3  ENSINO FUNDAMENTAL INCOMPLETO      269   \n",
      "1                    3  ENSINO FUNDAMENTAL INCOMPLETO       78   \n",
      "2                    6          ENSINO MÉDIO COMPLETO        2   \n",
      "3                    1                     ANALFABETO        1   \n",
      "4                    5        ENSINO MÉDIO INCOMPLETO        2   \n",
      "\n",
      "   QT_COMPARECIMENTO QT_ABSTENCAO  QT_COMPARECIMENTO_DEFICIENCIA  \\\n",
      "0                 65          204                              3   \n",
      "1                  3           75                              0   \n",
      "2                  0            2                              0   \n",
      "3                  1            0                              0   \n",
      "4                  2            0                              0   \n",
      "\n",
      "   QT_ABSTENCAO_DEFICIENCIA  QT_COMPARECIMENTO_TTE  QT_ABSTENCAO_TTE  \n",
      "0                         6                      3                16  \n",
      "1                         0                      1                 5  \n",
      "2                         0                      0                 0  \n",
      "3                         0                      0                 0  \n",
      "4                         0                      0                 0  \n",
      "\n",
      "[5 rows x 23 columns]\n",
      "----------------------------------------------------\n",
      "****************************************************\n",
      "----------------------------------------------------\n",
      "LAST DATA\n",
      "         DT_GERACAO HH_GERACAO  ANO_ELEICAO  NR_TURNO SG_UF  CD_MUNICIPIO  \\\n",
      "4770965  21/12/2020   14:48:46         2020         1    CE         14273   \n",
      "4770966  21/12/2020   14:48:46         2020         1    CE         14273   \n",
      "4770967  21/12/2020   14:48:46         2020         1    CE         14273   \n",
      "4770968  21/12/2020   14:48:46         2020         1    CE         14273   \n",
      "4770969  21/12/2020   14:48:46         2020         1    CE         14290   \n",
      "\n",
      "        NM_MUNICIPIO  NR_ZONA  CD_GENERO  DS_GENERO  ...  DS_FAIXA_ETARIA  \\\n",
      "4770965      ITAPAJÉ       41          4   FEMININO  ...     30 a 34 anos   \n",
      "4770966      ITAPAJÉ       41          4   FEMININO  ...     50 a 54 anos   \n",
      "4770967      ITAPAJÉ       41          4   FEMININO  ...     60 a 64 anos   \n",
      "4770968      ITAPAJÉ       41          4   FEMININO  ...     70 a 74 anos   \n",
      "4770969    ITAPIPOCA       17          2  MASCULINO  ...          17 anos   \n",
      "\n",
      "        CD_GRAU_ESCOLARIDADE           DS_GRAU_ESCOLARIDADE QT_APTOS  \\\n",
      "4770965                    5        ENSINO MÉDIO INCOMPLETO        2   \n",
      "4770966                    1                     ANALFABETO        1   \n",
      "4770967                    3  ENSINO FUNDAMENTAL INCOMPLETO        5   \n",
      "4770968                    2                   LÊ E ESCREVE        5   \n",
      "4770969                    6          ENSINO MÉDIO COMPLETO      184   \n",
      "\n",
      "         QT_COMPARECIMENTO QT_ABSTENCAO  QT_COMPARECIMENTO_DEFICIENCIA  \\\n",
      "4770965                  2            0                              0   \n",
      "4770966                  1            0                              0   \n",
      "4770967                  4            1                              0   \n",
      "4770968                  2            3                              0   \n",
      "4770969                165           19                              1   \n",
      "\n",
      "         QT_ABSTENCAO_DEFICIENCIA  QT_COMPARECIMENTO_TTE  QT_ABSTENCAO_TTE  \n",
      "4770965                         0                      0                 0  \n",
      "4770966                         0                      0                 0  \n",
      "4770967                         0                      1                 0  \n",
      "4770968                         0                      0                 2  \n",
      "4770969                         0                     65                10  \n",
      "\n",
      "[5 rows x 23 columns]\n",
      "----------------------------------------------------\n",
      "****************************************************\n",
      "----------------------------------------------------\n",
      "DATAFRAME DESCRIPTION\n",
      "       ANO_ELEICAO      NR_TURNO  CD_MUNICIPIO       NR_ZONA     CD_GENERO  \\\n",
      "count    4770970.0  4.770970e+06  4.770970e+06  4.770970e+06  4.770970e+06   \n",
      "mean        2020.0  1.082531e+00  5.198905e+04  1.039672e+02  3.036965e+00   \n",
      "std            0.0  2.751724e-01  2.822041e+04  9.655591e+01  1.023705e+00   \n",
      "min         2020.0  1.000000e+00  1.900000e+01  1.000000e+00  0.000000e+00   \n",
      "25%         2020.0  1.000000e+00  2.623900e+04  3.100000e+01  2.000000e+00   \n",
      "50%         2020.0  1.000000e+00  5.705300e+04  7.300000e+01  4.000000e+00   \n",
      "75%         2020.0  1.000000e+00  7.519100e+04  1.470000e+02  4.000000e+00   \n",
      "max         2020.0  2.000000e+00  9.907400e+04  4.270000e+02  4.000000e+00   \n",
      "\n",
      "       CD_ESTADO_CIVIL  CD_FAIXA_ETARIA  CD_GRAU_ESCOLARIDADE      QT_APTOS  \\\n",
      "count     4.770970e+06     4.770970e+06          4.770970e+06  4.770970e+06   \n",
      "mean      3.844821e+00     5.016026e+03          4.283559e+00  3.908966e+01   \n",
      "std       2.837954e+00     2.183904e+03          2.214603e+00  1.315634e+02   \n",
      "min       0.000000e+00    -3.000000e+00          0.000000e+00  1.000000e+00   \n",
      "25%       1.000000e+00     3.034000e+03          2.000000e+00  2.000000e+00   \n",
      "50%       3.000000e+00     5.054000e+03          4.000000e+00  5.000000e+00   \n",
      "75%       5.000000e+00     6.569000e+03          6.000000e+00  2.300000e+01   \n",
      "max       9.000000e+00     9.999000e+03          8.000000e+00  6.031000e+03   \n",
      "\n",
      "       QT_COMPARECIMENTO  QT_ABSTENCAO  QT_COMPARECIMENTO_DEFICIENCIA  \\\n",
      "count       4.770970e+06  4.770970e+06                   4.770970e+06   \n",
      "mean        2.952490e+01  9.564759e+00                   2.009983e-01   \n",
      "std         1.012039e+02  3.460468e+01                   1.410652e+00   \n",
      "min         0.000000e+00  0.000000e+00                   0.000000e+00   \n",
      "25%         1.000000e+00  0.000000e+00                   0.000000e+00   \n",
      "50%         4.000000e+00  1.000000e+00                   0.000000e+00   \n",
      "75%         1.600000e+01  5.000000e+00                   0.000000e+00   \n",
      "max         4.211000e+03  2.064000e+03                   2.900000e+02   \n",
      "\n",
      "       QT_ABSTENCAO_DEFICIENCIA  QT_COMPARECIMENTO_TTE  QT_ABSTENCAO_TTE  \n",
      "count              4.770970e+06           4.770970e+06      4.770970e+06  \n",
      "mean               1.304967e-01           2.164676e+00      7.115348e-01  \n",
      "std                8.292702e-01           1.155968e+01      4.146843e+00  \n",
      "min                0.000000e+00           0.000000e+00      0.000000e+00  \n",
      "25%                0.000000e+00           0.000000e+00      0.000000e+00  \n",
      "50%                0.000000e+00           0.000000e+00      0.000000e+00  \n",
      "75%                0.000000e+00           0.000000e+00      0.000000e+00  \n",
      "max                1.510000e+02           7.640000e+02      4.370000e+02  \n",
      "----------------------------------------------------\n",
      "****************************************************\n",
      "----------------------------------------------------\n",
      "DATAFRAME INFO\n",
      "<class 'pandas.core.frame.DataFrame'>\n",
      "RangeIndex: 4770970 entries, 0 to 4770969\n",
      "Data columns (total 23 columns):\n",
      " #   Column                         Dtype \n",
      "---  ------                         ----- \n",
      " 0   DT_GERACAO                     object\n",
      " 1   HH_GERACAO                     object\n",
      " 2   ANO_ELEICAO                    int64 \n",
      " 3   NR_TURNO                       int64 \n",
      " 4   SG_UF                          object\n",
      " 5   CD_MUNICIPIO                   int64 \n",
      " 6   NM_MUNICIPIO                   object\n",
      " 7   NR_ZONA                        int64 \n",
      " 8   CD_GENERO                      int64 \n",
      " 9   DS_GENERO                      object\n",
      " 10  CD_ESTADO_CIVIL                int64 \n",
      " 11  DS_ESTADO_CIVIL                object\n",
      " 12  CD_FAIXA_ETARIA                int64 \n",
      " 13  DS_FAIXA_ETARIA                object\n",
      " 14  CD_GRAU_ESCOLARIDADE           int64 \n",
      " 15  DS_GRAU_ESCOLARIDADE           object\n",
      " 16  QT_APTOS                       int64 \n",
      " 17  QT_COMPARECIMENTO              int64 \n",
      " 18  QT_ABSTENCAO                   int64 \n",
      " 19  QT_COMPARECIMENTO_DEFICIENCIA  int64 \n",
      " 20  QT_ABSTENCAO_DEFICIENCIA       int64 \n",
      " 21  QT_COMPARECIMENTO_TTE          int64 \n",
      " 22  QT_ABSTENCAO_TTE               int64 \n",
      "dtypes: int64(15), object(8)\n",
      "memory usage: 837.2+ MB\n",
      "None\n"
     ]
    }
   ],
   "source": [
    "sp.print_simple_analysis(df)"
   ]
  },
  {
   "cell_type": "code",
   "execution_count": null,
   "id": "62c822e1",
   "metadata": {},
   "outputs": [],
   "source": []
  },
  {
   "cell_type": "code",
   "execution_count": null,
   "id": "08da8cb2",
   "metadata": {},
   "outputs": [],
   "source": []
  },
  {
   "cell_type": "markdown",
   "id": "b5b7f75e",
   "metadata": {},
   "source": [
    "## Qnt. de pessoas aptas a eleger no estado do RJ em 2020"
   ]
  },
  {
   "cell_type": "code",
   "execution_count": 10,
   "id": "60f4eb0e",
   "metadata": {},
   "outputs": [],
   "source": [
    "abstencao_rj = df[df[\"SG_UF\"] == \"RJ\"]"
   ]
  },
  {
   "cell_type": "code",
   "execution_count": 11,
   "id": "f60af8d5",
   "metadata": {},
   "outputs": [
    {
     "data": {
      "text/plain": [
       "18949299"
      ]
     },
     "execution_count": 11,
     "metadata": {},
     "output_type": "execute_result"
    }
   ],
   "source": [
    "abstencao_rj[\"QT_APTOS\"].sum()"
   ]
  },
  {
   "cell_type": "markdown",
   "id": "831f5c0b",
   "metadata": {},
   "source": [
    "## Qnt. de comparecimentos e abstenções no estado ro RJ em 2020"
   ]
  },
  {
   "cell_type": "code",
   "execution_count": 12,
   "id": "504cf2af",
   "metadata": {},
   "outputs": [
    {
     "name": "stdout",
     "output_type": "stream",
     "text": [
      "13192453\n",
      "5756846\n"
     ]
    }
   ],
   "source": [
    "print(abstencao_rj[\"QT_COMPARECIMENTO\"].sum())\n",
    "print(abstencao_rj[\"QT_ABSTENCAO\"].sum())"
   ]
  },
  {
   "cell_type": "code",
   "execution_count": null,
   "id": "eb68cee2",
   "metadata": {},
   "outputs": [],
   "source": []
  }
 ],
 "metadata": {
  "kernelspec": {
   "display_name": "Python 3 (ipykernel)",
   "language": "python",
   "name": "python3"
  },
  "language_info": {
   "codemirror_mode": {
    "name": "ipython",
    "version": 3
   },
   "file_extension": ".py",
   "mimetype": "text/x-python",
   "name": "python",
   "nbconvert_exporter": "python",
   "pygments_lexer": "ipython3",
   "version": "3.9.12"
  }
 },
 "nbformat": 4,
 "nbformat_minor": 5
}
